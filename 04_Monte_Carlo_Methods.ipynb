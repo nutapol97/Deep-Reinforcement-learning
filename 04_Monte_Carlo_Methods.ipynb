{
  "cells": [
    {
      "cell_type": "markdown",
      "metadata": {
        "id": "view-in-github",
        "colab_type": "text"
      },
      "source": [
        "<a href=\"https://colab.research.google.com/github/nutapol97/Deep-Reinforcement-learning/blob/main/04_Monte_Carlo_Methods.ipynb\" target=\"_parent\"><img src=\"https://colab.research.google.com/assets/colab-badge.svg\" alt=\"Open In Colab\"/></a>"
      ]
    },
    {
      "cell_type": "markdown",
      "metadata": {
        "id": "xjgKDoPSK6vY"
      },
      "source": [
        "# Lab 04 Monte Carlo Methods\n",
        "\n",
        "In the last lab, we were trying to do **Makov Decision Process (MDP)** and **Dynamics programing (DP)**. They require the environment to be fully known, including *transition Matrix* and *reward matrix*. The disadvantage of the algorithm is they have limit size of environment. These algorithms are called **model-base approach**.\n",
        "\n",
        "In this lab, we will look another algorithm which have no required the prior knowledge of the environment, and it can scalable environment than DP -- This is called **Model-Free approach**. The algorithm is called **Monte Carlo Methods (MC)**.\n",
        "\n",
        "MC can predict state values and state-action values in a first-visit and every-visit manner. The process is used for exploration and exploitation. MC can be implemented with on-policy and off-policy to find optimal policy."
      ]
    },
    {
      "cell_type": "markdown",
      "metadata": {
        "id": "GmP-wM9yK6vc"
      },
      "source": [
        "## Monte Carlo Method Concept\n",
        "\n",
        "MC method is any mothod that uses randomness to solve problems. The algorithm repeats suitable **random sampling** and observes the fraction of samples that obey particular properties in order to make numerical estimations.\n",
        "\n",
        "## Find $\\pi$ using MC method\n",
        "\n",
        "$\\pi$? Yes the $\\pi$ which is used for calculate circle. We assume that if there are some random points which are in the square area. We can calculate $\\pi$ by\n",
        "\n",
        "$$ A_{rect} = (2r)^2 = 4r^2 $$\n",
        "$$ A_{circle} = \\pi r^2 $$\n",
        "\n",
        "Hence,\n",
        "$$ \\frac{A_{circle}}{A_{rect}} = \\frac{\\pi r^2}{4r^2} = \\frac{\\pi}{4} $$\n",
        "\n",
        "Let's try to code:"
      ]
    },
    {
      "cell_type": "code",
      "execution_count": null,
      "metadata": {
        "id": "VsET2Pt_K6vc"
      },
      "outputs": [],
      "source": [
        "import torch\n",
        "import numpy\n",
        "import math\n",
        "import matplotlib.pyplot as plt"
      ]
    },
    {
      "cell_type": "markdown",
      "metadata": {
        "id": "tTq2ghewK6ve"
      },
      "source": [
        "Random 2,000 points in the square $x \\in [-1,1]$ and $y \\in [-1,1]$"
      ]
    },
    {
      "cell_type": "code",
      "execution_count": null,
      "metadata": {
        "id": "vjyamT91K6ve"
      },
      "outputs": [],
      "source": [
        "n_point = 2000\n",
        "points = torch.rand((n_point, 2)) * 2 - 1"
      ]
    },
    {
      "cell_type": "markdown",
      "metadata": {
        "id": "7joqoLlmK6vf"
      },
      "source": [
        "Find the points which are inside the circle, and keep them (this is for plot in the graph only)"
      ]
    },
    {
      "cell_type": "code",
      "execution_count": null,
      "metadata": {
        "id": "yQ8snhgEK6vf"
      },
      "outputs": [],
      "source": [
        "points_circle_x = []\n",
        "points_circle_y = []\n",
        "n_point_circle = 0\n",
        "\n",
        "pi_iteration = []\n",
        "i = 1\n",
        "for point in points:\n",
        "    r = torch.sqrt(point[0] ** 2 + point[1] ** 2)\n",
        "    if r <= 1:\n",
        "        points_circle_x.append(point[0])\n",
        "        points_circle_y.append(point[1])\n",
        "        n_point_circle += 1\n",
        "    pi_iteration.append(4 * (n_point_circle / i))\n",
        "    i += 1\n",
        "        \n",
        "points_circle_x = numpy.asarray(points_circle_x)\n",
        "points_circle_y = numpy.asarray(points_circle_y)"
      ]
    },
    {
      "cell_type": "markdown",
      "metadata": {
        "id": "us7oKNxKK6vg"
      },
      "source": [
        "Find the estimate $\\pi$"
      ]
    },
    {
      "cell_type": "code",
      "execution_count": null,
      "metadata": {
        "id": "oyglnSfvK6vh",
        "outputId": "5dbdd4f7-3516-45c3-e038-c0a8bf3b87e8",
        "colab": {
          "base_uri": "https://localhost:8080/"
        }
      },
      "outputs": [
        {
          "output_type": "stream",
          "name": "stdout",
          "text": [
            "Estimated value of pi is: 3.204\n"
          ]
        }
      ],
      "source": [
        "pi_estimated = 4 * n_point_circle / n_point\n",
        "print('Estimated value of pi is:', pi_estimated)"
      ]
    },
    {
      "cell_type": "markdown",
      "metadata": {
        "id": "olwXLl6iK6vi"
      },
      "source": [
        "Plot to show the points and circle"
      ]
    },
    {
      "cell_type": "code",
      "execution_count": null,
      "metadata": {
        "id": "UKuGDq_4K6vj",
        "outputId": "ee04aaf2-d736-481e-dba3-5ff26a5d856f",
        "colab": {
          "base_uri": "https://localhost:8080/",
          "height": 320
        }
      },
      "outputs": [
        {
          "output_type": "stream",
          "name": "stderr",
          "text": [
            "/usr/local/lib/python3.7/dist-packages/ipykernel_launcher.py:9: MatplotlibDeprecationWarning: Adding an axes using the same arguments as a previous axes currently reuses the earlier instance.  In a future version, a new instance will always be created and returned.  Meanwhile, this warning can be suppressed, and the future behavior ensured, by passing a unique label to each axes instance.\n",
            "  if __name__ == '__main__':\n"
          ]
        },
        {
          "output_type": "display_data",
          "data": {
            "image/png": "[encoded data removed]",
            "text/plain": [
              "<Figure size 432x288 with 1 Axes>"
            ]
          },
          "metadata": {
            "needs_background": "light"
          }
        }
      ],
      "source": [
        "plt.plot(points[:, 0].numpy(), points[:, 1].numpy(), 'y.')\n",
        "plt.plot(points_circle_x, points_circle_y, 'c.')\n",
        "# plot real circle\n",
        "i = torch.linspace(0, 2 * math.pi)\n",
        "plt.plot(torch.cos(i).numpy(), torch.sin(i).numpy(), 'r-')\n",
        "# plot circle from estimate pi\n",
        "i = torch.linspace(0, 2 * pi_estimated)\n",
        "plt.plot(torch.cos(i).numpy(), torch.sin(i).numpy(), 'b--')\n",
        "plt.axes().set_aspect('equal')\n",
        "plt.show()"
      ]
    },
    {
      "cell_type": "code",
      "execution_count": null,
      "metadata": {
        "id": "WU343-slK6vk",
        "outputId": "9fa6c1a4-974e-4428-cca5-8e02f459f75f",
        "colab": {
          "base_uri": "https://localhost:8080/",
          "height": 295
        }
      },
      "outputs": [
        {
          "output_type": "display_data",
          "data": {
            "image/png": "[encoded data removed]",
            "text/plain": [
              "<Figure size 432x288 with 1 Axes>"
            ]
          },
          "metadata": {
            "needs_background": "light"
          }
        }
      ],
      "source": [
        "plt.plot(pi_iteration)\n",
        "plt.plot([math.pi] * n_point, '--')\n",
        "plt.xlabel('Iteration')\n",
        "plt.ylabel('Estimated pi')\n",
        "plt.title('Estimation history')\n",
        "plt.show()"
      ]
    },
    {
      "cell_type": "markdown",
      "metadata": {
        "id": "gQ25fwpnK6vk"
      },
      "source": [
        "### Monte Carlo Policy Evaluation\n",
        "\n",
        "Last time, we applied **DP** algorithm into policy evaluation. The things we need are:\n",
        "\n",
        "- Full state-value transition matrix\n",
        "- Reward matrix\n",
        "\n",
        "Those are fully known environment. However, in real-life situation, we don't know before we reach the situation. This is the **limitation of model-base algorithm**. To address the problem, the **model-free algorithm** is created for no pre-required prior knowledge both transition and rewards matrices.\n",
        "\n",
        "We need to recall the returns of **Giving Policy (G)** from a process, which are the total rewards over the long run, \n",
        "\n",
        "$$G_t=\\sum_k \\gamma^k R_{t+k+1}$$\n",
        "\n",
        "MC policy evaluation uses **empirical mean return** instead of **expected return (as in DP)** to estimate the value function. There are two ways to perform MC policy evaluation.\n",
        "- First-visit MC prediction -- averages the returns only for the first occurrence of a state, s, in an episode. \n",
        "- Every-visit MC prediction -- averages the returns for every occurrence of a state, s, in an episode.\n",
        "\n",
        "First-visit MC prediction has fewer calculations than the every-visit version, so it is more frequently used.\n",
        "\n",
        "### Incremental means\n",
        "\n",
        "To update the MC method, the incremenatl means have been used for update the policy. An incremental or running mean allows us to keep an average for a list of numbers without having to remember the list. We hold one value that we incrementally update using the following equation:\n",
        "\n",
        "$$V(S_t) = V(S_t) + \\alpha(G_t + V(S_t))$$\n",
        "\n",
        "When $V(S_t)$ is the current state value for the policy, $\\alpha$ is a discount rate, and $G_t$."
      ]
    },
    {
      "cell_type": "markdown",
      "metadata": {
        "id": "NEYqmtaLK6vm"
      },
      "source": [
        "### FrozenLake and First-visit MC policy evaluation\n",
        "\n",
        "Let's start in FrozenLake environment using first-visit MC prediction."
      ]
    },
    {
      "cell_type": "code",
      "execution_count": null,
      "metadata": {
        "tags": [],
        "id": "LwlquvKnK6vm"
      },
      "outputs": [],
      "source": [
        "import torch\n",
        "import gym\n",
        "\n",
        "env = gym.make(\"FrozenLake-v0\")"
      ]
    },
    {
      "cell_type": "markdown",
      "metadata": {
        "id": "gAnNQuZ-K6vn"
      },
      "source": [
        "Create a function which simulate for each episode given a policy and returns the reward and state for each step"
      ]
    },
    {
      "cell_type": "code",
      "execution_count": null,
      "metadata": {
        "id": "J2huivpGK6vo"
      },
      "outputs": [],
      "source": [
        "def run_episode(env, policy):\n",
        "    state = env.reset()\n",
        "    # this is the difference between MC and DP, find rewards and states\n",
        "    rewards = []\n",
        "    states = [state]\n",
        "    is_done = False\n",
        "    while not is_done:\n",
        "        action = policy[state].item()\n",
        "        state, reward, is_done, info = env.step(action)\n",
        "        # keep all states and reward\n",
        "        states.append(state)\n",
        "        rewards.append(reward)\n",
        "        if is_done:\n",
        "            break\n",
        "    # convert to torch\n",
        "    states = torch.tensor(states)\n",
        "    rewards = torch.tensor(rewards)\n",
        "    return states, rewards"
      ]
    },
    {
      "cell_type": "markdown",
      "metadata": {
        "id": "05lRZCtEK6vp"
      },
      "source": [
        "Create MC prediction in first-visit."
      ]
    },
    {
      "cell_type": "code",
      "execution_count": null,
      "metadata": {
        "id": "ehTKAbPTK6vp"
      },
      "outputs": [],
      "source": [
        "def mc_prediction_first_visit(env, policy, gamma, n_episode):\n",
        "    n_state = policy.shape[0]\n",
        "    V = torch.zeros(n_state)\n",
        "    N = torch.zeros(n_state)\n",
        "    for episode in range(n_episode):\n",
        "        # run 1 episode until end of the episode\n",
        "        states_t, rewards_t = run_episode(env, policy)\n",
        "        return_t = 0\n",
        "        first_visit = torch.zeros(n_state)\n",
        "        G = torch.zeros(n_state)\n",
        "        # take a look the state and reward from the last to first start\n",
        "        # calculate given policy\n",
        "        for state_t, reward_t in zip(reversed(states_t)[1:], reversed(rewards_t)):\n",
        "            # calculate rewards\n",
        "            # because the reward at the last can be only 0 or 1, otherwise are 0\n",
        "            # so the reward at first start will be smallest\n",
        "            return_t = gamma * return_t + reward_t\n",
        "            # put the reward for the state into given policy\n",
        "            # as you can see, if we come in the same state, it will be replaced to the early time when visit\n",
        "            # That's why we call first-visit\n",
        "            G[state_t] = return_t\n",
        "            first_visit[state_t] = 1\n",
        "        # at the end of given policy calculation\n",
        "        # we need to update the state transition by summation them (prepare to average)\n",
        "        for state in range(n_state):\n",
        "            if first_visit[state] > 0:\n",
        "                V[state] += G[state]\n",
        "                N[state] += 1\n",
        "    # average state transition here\n",
        "    for state in range(n_state):\n",
        "        if N[state] > 0:\n",
        "            V[state] = V[state] / N[state]\n",
        "    return V"
      ]
    },
    {
      "cell_type": "markdown",
      "metadata": {
        "id": "OAldcsxzK6vp"
      },
      "source": [
        "Setup discount rate $\\gamma$ as 1 and simulate 10,000 episodes\n",
        "\n",
        "We tried to used <code>optimal_policy</code> from lab 02 (don't be worry, we just bring the data), and feed it into the first-visit MC function, and see the results."
      ]
    },
    {
      "cell_type": "code",
      "execution_count": null,
      "metadata": {
        "id": "4U0dRoXdK6vq",
        "outputId": "eb78ce7c-1d23-4812-8b07-68372c154fde",
        "colab": {
          "base_uri": "https://localhost:8080/"
        }
      },
      "outputs": [
        {
          "output_type": "stream",
          "name": "stdout",
          "text": [
            "The value function calculated by first-visit MC prediction:\n",
            " tensor([0.7352, 0.4906, 0.4855, 0.4597, 0.7352, 0.0000, 0.3796, 0.0000, 0.7352,\n",
            "        0.7364, 0.6677, 0.0000, 0.0000, 0.7954, 0.8864, 0.0000])\n"
          ]
        }
      ],
      "source": [
        "gamma = 1\n",
        "n_episode = 10000\n",
        "\n",
        "optimal_policy = torch.tensor([0., 3., 3., 3., 0., 3., 2., 3., 3., 1., 0., 3., 3., 2., 1., 3.])\n",
        "value = mc_prediction_first_visit(env, optimal_policy, gamma, n_episode)\n",
        "print('The value function calculated by first-visit MC prediction:\\n', value)"
      ]
    },
    {
      "cell_type": "markdown",
      "metadata": {
        "id": "A02Gd4e0K6vq"
      },
      "source": [
        "As you can see, in MC-based prediction, it is not necessary to know about the full model of the environment. In most real-world cases, the transition matrix and reward matrix are not known beforehand, or are extremely difficult to obtain. Imagine how many possible states there are playing *chess* or *Go* and the number of possible actions; it is almost impossible to work out the transition matrix and reward matrix. Model-free reinforcement learning is about learning from experience by interacting with the environment.\n",
        "\n",
        "We only considered what could be observed, which included the new state and reward in each step, and made predictions using the Monte Carlo method.\n",
        "\n",
        "Note that the more episodes we simulate, the more accurate predictions we can obtain. If you plot the value updated after each episode, you will see how it converges over time, which is similar to what we saw when estimating the value of $\\pi$."
      ]
    },
    {
      "cell_type": "markdown",
      "metadata": {
        "id": "gxkkezmAK6vq"
      },
      "source": [
        "### How about every-visit MC?\n",
        "\n",
        "Take a look at every-visit MC function"
      ]
    },
    {
      "cell_type": "code",
      "execution_count": null,
      "metadata": {
        "id": "MD4XKCRaK6vr"
      },
      "outputs": [],
      "source": [
        "def mc_prediction_every_visit(env, policy, gamma, n_episode):\n",
        "    n_state = policy.shape[0]\n",
        "    V = torch.zeros(n_state)\n",
        "    N = torch.zeros(n_state)\n",
        "    G = torch.zeros(n_state)\n",
        "    for episode in range(n_episode):\n",
        "        states_t, rewards_t = run_episode(env, policy)\n",
        "        return_t = 0\n",
        "        for state_t, reward_t in zip(reversed(states_t)[1:], reversed(rewards_t)):\n",
        "            return_t = gamma * return_t + reward_t\n",
        "            # Here is the difference, instead of discard the other visit\n",
        "            # we calculate all visiting in the target state\n",
        "            # That's why call every-visit\n",
        "            G[state_t] += return_t\n",
        "            N[state_t] += 1\n",
        "    for state in range(n_state):\n",
        "        if N[state] > 0:\n",
        "            V[state] = G[state] / N[state]\n",
        "    return V"
      ]
    },
    {
      "cell_type": "code",
      "execution_count": null,
      "metadata": {
        "id": "2TdJnxbhK6vr",
        "outputId": "6334f85b-15b0-4b7c-c280-0cc14bcedfe1",
        "colab": {
          "base_uri": "https://localhost:8080/"
        }
      },
      "outputs": [
        {
          "output_type": "stream",
          "name": "stdout",
          "text": [
            "The value function calculated by every-visit MC prediction:\n",
            " tensor([0.6331, 0.4370, 0.4002, 0.3683, 0.6283, 0.0000, 0.3760, 0.0000, 0.6462,\n",
            "        0.6827, 0.6508, 0.0000, 0.0000, 0.7766, 0.8885, 0.0000])\n"
          ]
        }
      ],
      "source": [
        "e_value = mc_prediction_every_visit(env, optimal_policy, gamma, n_episode)\n",
        "print('The value function calculated by every-visit MC prediction:\\n', e_value)"
      ]
    },
    {
      "cell_type": "markdown",
      "metadata": {
        "id": "Lb6ncUSsK6vs"
      },
      "source": [
        "Actually, the every-visit is more accurate than the first-visit, but it takes a lot of calculation, so it is not popular."
      ]
    },
    {
      "cell_type": "markdown",
      "metadata": {
        "id": "IenuTNQAK6vs"
      },
      "source": [
        "## Developing MC control with epsilon-greedy policy\n",
        "\n",
        "The optimal policy using MC control can find the action with the highest state-action value was selected. However, the best choice available in early episodes does not guarantee an optimal solution. If we just focus on what is temporarily the best option and ignore the overall problem, we will be stuck in local optima instead of reaching the global optimal. In order to address the problem, we use another algorithm: epsilon-greedy policy.\n",
        "\n",
        "In MC control with epsilon-greedy policy, we no longer exploit the best action all the time, but choose an action randomly under certain probabilities. As the name implies, the algorithm has two folds:\n",
        "\n",
        "$$\\pi(s,a) = \\frac{\\epsilon}{|A|}$$\n",
        "\n",
        "when $|A|$ is the number of possible actions\n",
        "\n",
        "#### Greedy\n",
        "\n",
        "Greedy is the action with the highest state-action value is favored, and its probability of being chosen is increased by $1-\\epsilon$:\n",
        "\n",
        "$$\\pi(s,a) = 1 - \\epsilon + \\frac{\\epsilon}{|A|}$$\n",
        "\n",
        "Epsilon-greedy policy exploits the best action most of the time and also keeps exploring different actions from time to time."
      ]
    },
    {
      "cell_type": "markdown",
      "metadata": {
        "id": "MowKe6Q3K6vs"
      },
      "source": [
        "## Modify MC control with epsilon-greedy policy with FrozenLake\n",
        "\n",
        "From the code above, let's modify as below:"
      ]
    },
    {
      "cell_type": "code",
      "execution_count": null,
      "metadata": {
        "id": "ecI3iu1tK6vs"
      },
      "outputs": [],
      "source": [
        "import torch\n",
        "import gym\n",
        "\n",
        "env = gym.make(\"FrozenLake-v0\")"
      ]
    },
    {
      "cell_type": "markdown",
      "metadata": {
        "id": "Su5vPytnK6vt"
      },
      "source": [
        "Modify run_episode to return states, actions, rewards"
      ]
    },
    {
      "cell_type": "code",
      "execution_count": null,
      "metadata": {
        "id": "lCGSaBbDK6vt"
      },
      "outputs": [],
      "source": [
        "def run_episode(env, Q, epsilon, n_action):\n",
        "    \"\"\"\n",
        "    Run a episode and performs epsilon-greedy policy\n",
        "    @param env: OpenAI Gym environment\n",
        "    @param Q: Q-function\n",
        "    @param epsilon: the trade-off between exploration and exploitation\n",
        "    @param n_action: action space\n",
        "    @return: resulting states, actions and rewards for the entire episode\n",
        "    \"\"\"\n",
        "    state = env.reset()\n",
        "    rewards = []\n",
        "    actions = []\n",
        "    states = []\n",
        "    is_done = False\n",
        "    while not is_done:\n",
        "        probs = torch.ones(n_action) * epsilon / n_action\n",
        "        best_action = torch.argmax(Q[state]).item()\n",
        "        probs[best_action] += 1.0 - epsilon\n",
        "        action = torch.multinomial(probs, 1).item()\n",
        "        actions.append(action)\n",
        "        states.append(state)\n",
        "        state, reward, is_done, info = env.step(action)\n",
        "        rewards.append(reward)\n",
        "        if is_done:\n",
        "            break\n",
        "    return states, actions, rewards"
      ]
    },
    {
      "cell_type": "markdown",
      "metadata": {
        "id": "iJ7psiRnK6vt"
      },
      "source": [
        "Create MC_control using epsilon greedy"
      ]
    },
    {
      "cell_type": "code",
      "execution_count": null,
      "metadata": {
        "id": "9xOc9CvbK6vt"
      },
      "outputs": [],
      "source": [
        "from collections import defaultdict\n",
        "\n",
        "def mc_control_epsilon_greedy(env, gamma, n_episode, epsilon):\n",
        "    \"\"\"\n",
        "    Obtain the optimal policy with on-policy MC control with epsilon_greedy\n",
        "    @param env: OpenAI Gym environment\n",
        "    @param gamma: discount factor\n",
        "    @param n_episode: number of episodes\n",
        "    @param epsilon: the trade-off between exploration and exploitation\n",
        "    @return: the optimal Q-function, and the optimal policy\n",
        "    \"\"\"\n",
        "    n_action = env.action_space.n\n",
        "    G_sum = defaultdict(float)\n",
        "    N = defaultdict(int)\n",
        "    Q = defaultdict(lambda: torch.empty(n_action))\n",
        "    for episode in range(n_episode):\n",
        "        if (episode + 1) % 1000 == 0:\n",
        "            print(\"Training episode {}\".format(episode+1))\n",
        "        states_t, actions_t, rewards_t = run_episode(env, Q, epsilon, n_action)\n",
        "        return_t = 0\n",
        "        G = {}\n",
        "        for state_t, action_t, reward_t in zip(states_t[::-1], actions_t[::-1], rewards_t[::-1]):\n",
        "            return_t = gamma * return_t + reward_t\n",
        "            G[(state_t, action_t)] = return_t\n",
        "        for state_action, return_t in G.items():\n",
        "            state, action = state_action\n",
        "\n",
        "            G_sum[state_action] += return_t\n",
        "            N[state_action] += 1\n",
        "            Q[state][action] = G_sum[state_action] / N[state_action]\n",
        "    policy = {}\n",
        "    for state, actions in Q.items():\n",
        "        policy[state] = torch.argmax(actions).item()\n",
        "    return Q, policy\n"
      ]
    },
    {
      "cell_type": "markdown",
      "metadata": {
        "id": "tB1TPrryK6vu"
      },
      "source": [
        "Find optimal policy"
      ]
    },
    {
      "cell_type": "code",
      "execution_count": null,
      "metadata": {
        "id": "C4_YJc5TK6vu",
        "outputId": "34caf635-c77b-4acc-a00b-be591d3fdfa8",
        "colab": {
          "base_uri": "https://localhost:8080/"
        }
      },
      "outputs": [
        {
          "output_type": "stream",
          "name": "stdout",
          "text": [
            "Training episode 1000\n",
            "Training episode 2000\n",
            "Training episode 3000\n",
            "Training episode 4000\n",
            "Training episode 5000\n",
            "Training episode 6000\n",
            "Training episode 7000\n",
            "Training episode 8000\n",
            "Training episode 9000\n",
            "Training episode 10000\n",
            "Training episode 11000\n",
            "Training episode 12000\n",
            "Training episode 13000\n",
            "Training episode 14000\n",
            "Training episode 15000\n",
            "Training episode 16000\n",
            "Training episode 17000\n",
            "Training episode 18000\n",
            "Training episode 19000\n",
            "Training episode 20000\n",
            "Training episode 21000\n",
            "Training episode 22000\n",
            "Training episode 23000\n",
            "Training episode 24000\n",
            "Training episode 25000\n",
            "Training episode 26000\n",
            "Training episode 27000\n",
            "Training episode 28000\n",
            "Training episode 29000\n",
            "Training episode 30000\n",
            "Training episode 31000\n",
            "Training episode 32000\n",
            "Training episode 33000\n",
            "Training episode 34000\n",
            "Training episode 35000\n",
            "Training episode 36000\n",
            "Training episode 37000\n",
            "Training episode 38000\n",
            "Training episode 39000\n",
            "Training episode 40000\n",
            "Training episode 41000\n",
            "Training episode 42000\n",
            "Training episode 43000\n",
            "Training episode 44000\n",
            "Training episode 45000\n",
            "Training episode 46000\n",
            "Training episode 47000\n",
            "Training episode 48000\n",
            "Training episode 49000\n",
            "Training episode 50000\n",
            "Training episode 51000\n",
            "Training episode 52000\n",
            "Training episode 53000\n",
            "Training episode 54000\n",
            "Training episode 55000\n",
            "Training episode 56000\n",
            "Training episode 57000\n",
            "Training episode 58000\n",
            "Training episode 59000\n",
            "Training episode 60000\n",
            "Training episode 61000\n",
            "Training episode 62000\n",
            "Training episode 63000\n",
            "Training episode 64000\n",
            "Training episode 65000\n",
            "Training episode 66000\n",
            "Training episode 67000\n",
            "Training episode 68000\n",
            "Training episode 69000\n",
            "Training episode 70000\n",
            "Training episode 71000\n",
            "Training episode 72000\n",
            "Training episode 73000\n",
            "Training episode 74000\n",
            "Training episode 75000\n",
            "Training episode 76000\n",
            "Training episode 77000\n",
            "Training episode 78000\n",
            "Training episode 79000\n",
            "Training episode 80000\n",
            "Training episode 81000\n",
            "Training episode 82000\n",
            "Training episode 83000\n",
            "Training episode 84000\n",
            "Training episode 85000\n",
            "Training episode 86000\n",
            "Training episode 87000\n",
            "Training episode 88000\n",
            "Training episode 89000\n",
            "Training episode 90000\n",
            "Training episode 91000\n",
            "Training episode 92000\n",
            "Training episode 93000\n",
            "Training episode 94000\n",
            "Training episode 95000\n",
            "Training episode 96000\n",
            "Training episode 97000\n",
            "Training episode 98000\n",
            "Training episode 99000\n",
            "Training episode 100000\n"
          ]
        }
      ],
      "source": [
        "gamma = 1\n",
        "\n",
        "n_episode = 100000\n",
        "epsilon = 0.1\n",
        "\n",
        "optimal_Q, optimal_policy = mc_control_epsilon_greedy(env, gamma, n_episode, epsilon)"
      ]
    },
    {
      "cell_type": "markdown",
      "metadata": {
        "id": "mvZI-15lK6vv"
      },
      "source": [
        "To test the optimal policy, we need to run simulation using policy.\n",
        "\n",
        "Let's create simulate_episode function:"
      ]
    },
    {
      "cell_type": "code",
      "execution_count": null,
      "metadata": {
        "id": "7ZQKBBo-K6vv"
      },
      "outputs": [],
      "source": [
        "def simulate_episode(env, policy):\n",
        "    state = env.reset()\n",
        "    is_done = False\n",
        "    while not is_done:\n",
        "        action = policy[state]\n",
        "        state, reward, is_done, info = env.step(action)\n",
        "        if is_done:\n",
        "            return reward"
      ]
    },
    {
      "cell_type": "markdown",
      "metadata": {
        "id": "zHJ-vDzMK6vv"
      },
      "source": [
        "Run the optimal policy"
      ]
    },
    {
      "cell_type": "code",
      "execution_count": null,
      "metadata": {
        "id": "G9zuQwzCK6vv",
        "outputId": "73c1ab96-cc51-4acb-e91b-124dfccd9743",
        "colab": {
          "base_uri": "https://localhost:8080/"
        }
      },
      "outputs": [
        {
          "output_type": "stream",
          "name": "stdout",
          "text": [
            "Testing episode 1000\n",
            "Testing episode 2000\n",
            "Testing episode 3000\n",
            "Testing episode 4000\n",
            "Testing episode 5000\n",
            "Testing episode 6000\n",
            "Testing episode 7000\n",
            "Testing episode 8000\n",
            "Testing episode 9000\n",
            "Testing episode 10000\n",
            "Testing episode 11000\n",
            "Testing episode 12000\n",
            "Testing episode 13000\n",
            "Testing episode 14000\n",
            "Testing episode 15000\n",
            "Testing episode 16000\n",
            "Testing episode 17000\n",
            "Testing episode 18000\n",
            "Testing episode 19000\n",
            "Testing episode 20000\n",
            "Testing episode 21000\n",
            "Testing episode 22000\n",
            "Testing episode 23000\n",
            "Testing episode 24000\n",
            "Testing episode 25000\n",
            "Testing episode 26000\n",
            "Testing episode 27000\n",
            "Testing episode 28000\n",
            "Testing episode 29000\n",
            "Testing episode 30000\n",
            "Testing episode 31000\n",
            "Testing episode 32000\n",
            "Testing episode 33000\n",
            "Testing episode 34000\n",
            "Testing episode 35000\n",
            "Testing episode 36000\n",
            "Testing episode 37000\n",
            "Testing episode 38000\n",
            "Testing episode 39000\n",
            "Testing episode 40000\n",
            "Testing episode 41000\n",
            "Testing episode 42000\n",
            "Testing episode 43000\n",
            "Testing episode 44000\n",
            "Testing episode 45000\n",
            "Testing episode 46000\n",
            "Testing episode 47000\n",
            "Testing episode 48000\n",
            "Testing episode 49000\n",
            "Testing episode 50000\n"
          ]
        }
      ],
      "source": [
        "n_episode = 50000\n",
        "n_win_optimal = 0\n",
        "n_lose_optimal = 0\n",
        "\n",
        "for episode in range(n_episode):\n",
        "    if (episode + 1) % 1000 == 0:\n",
        "        print(\"Testing episode {}\".format(episode+1))\n",
        "    reward = simulate_episode(env, optimal_policy)\n",
        "    if reward == 1:\n",
        "        n_win_optimal += 1\n",
        "    elif reward == -1:\n",
        "        n_lose_optimal += 1"
      ]
    },
    {
      "cell_type": "code",
      "execution_count": null,
      "metadata": {
        "id": "eX6y_4UHK6vw",
        "outputId": "8b90e181-c6ec-42e3-d5e1-d8f9d6da7a6e",
        "colab": {
          "base_uri": "https://localhost:8080/"
        }
      },
      "outputs": [
        {
          "output_type": "stream",
          "name": "stdout",
          "text": [
            "Winning probability under the optimal policy: 0.72552\n",
            "Losing probability under the optimal policy: 0.0\n"
          ]
        }
      ],
      "source": [
        "print('Winning probability under the optimal policy: {}'.format(n_win_optimal/n_episode))\n",
        "\n",
        "print('Losing probability under the optimal policy: {}'.format(n_lose_optimal/n_episode))"
      ]
    },
    {
      "cell_type": "markdown",
      "metadata": {
        "id": "PLRGhk74K6vw"
      },
      "source": [
        "## Implement other environments: LunarLander\n",
        "\n",
        "Let's see the environment:"
      ]
    },
    {
      "cell_type": "code",
      "source": [
        "!pip3 install Box2D\n",
        "!pip3 install box2d-py\n",
        "!pip3 install gym[all]\n",
        "!pip3 install gym[Box_2D]\n"
      ],
      "metadata": {
        "id": "VtxLT8fONizI",
        "outputId": "a016dfb1-10e8-425f-fd32-fe19e7df6b62",
        "colab": {
          "base_uri": "https://localhost:8080/"
        }
      },
      "execution_count": null,
      "outputs": [
        {
          "output_type": "stream",
          "name": "stdout",
          "text": [
            "Requirement already satisfied: Box2D in /usr/local/lib/python3.7/dist-packages (2.3.10)\n",
            "Requirement already satisfied: box2d-py in /usr/local/lib/python3.7/dist-packages (2.3.8)\n",
            "Requirement already satisfied: gym[all] in /usr/local/lib/python3.7/dist-packages (0.17.2)\n",
            "Requirement already satisfied: cloudpickle<1.4.0,>=1.2.0 in /usr/local/lib/python3.7/dist-packages (from gym[all]) (1.3.0)\n",
            "Requirement already satisfied: pyglet<=1.5.0,>=1.4.0 in /usr/local/lib/python3.7/dist-packages (from gym[all]) (1.5.0)\n",
            "Requirement already satisfied: scipy in /usr/local/lib/python3.7/dist-packages (from gym[all]) (1.4.1)\n",
            "Requirement already satisfied: numpy>=1.10.4 in /usr/local/lib/python3.7/dist-packages (from gym[all]) (1.21.5)\n",
            "Requirement already satisfied: Pillow in /usr/local/lib/python3.7/dist-packages (from gym[all]) (7.1.2)\n",
            "Requirement already satisfied: atari-py~=0.2.0 in /usr/local/lib/python3.7/dist-packages (from gym[all]) (0.2.9)\n",
            "Collecting mujoco-py<2.0,>=1.50\n",
            "  Using cached mujoco-py-1.50.1.68.tar.gz (120 kB)\n",
            "Requirement already satisfied: imageio in /usr/local/lib/python3.7/dist-packages (from gym[all]) (2.4.1)\n",
            "Requirement already satisfied: opencv-python in /usr/local/lib/python3.7/dist-packages (from gym[all]) (4.1.2.30)\n",
            "Requirement already satisfied: box2d-py~=2.3.5 in /usr/local/lib/python3.7/dist-packages (from gym[all]) (2.3.8)\n",
            "Requirement already satisfied: six in /usr/local/lib/python3.7/dist-packages (from atari-py~=0.2.0->gym[all]) (1.15.0)\n",
            "Requirement already satisfied: glfw>=1.4.0 in /usr/local/lib/python3.7/dist-packages (from mujoco-py<2.0,>=1.50->gym[all]) (2.5.0)\n",
            "Requirement already satisfied: Cython>=0.27.2 in /usr/local/lib/python3.7/dist-packages (from mujoco-py<2.0,>=1.50->gym[all]) (0.29.27)\n",
            "Requirement already satisfied: cffi>=1.10 in /usr/local/lib/python3.7/dist-packages (from mujoco-py<2.0,>=1.50->gym[all]) (1.15.0)\n",
            "Requirement already satisfied: lockfile>=0.12.2 in /usr/local/lib/python3.7/dist-packages (from mujoco-py<2.0,>=1.50->gym[all]) (0.12.2)\n",
            "Requirement already satisfied: pycparser in /usr/local/lib/python3.7/dist-packages (from cffi>=1.10->mujoco-py<2.0,>=1.50->gym[all]) (2.21)\n",
            "Requirement already satisfied: future in /usr/local/lib/python3.7/dist-packages (from pyglet<=1.5.0,>=1.4.0->gym[all]) (0.16.0)\n",
            "Building wheels for collected packages: mujoco-py\n",
            "  Building wheel for mujoco-py (setup.py) ... \u001b[?25lerror\n",
            "\u001b[31m  ERROR: Failed building wheel for mujoco-py\u001b[0m\n",
            "\u001b[?25h  Running setup.py clean for mujoco-py\n",
            "Failed to build mujoco-py\n",
            "Installing collected packages: mujoco-py\n",
            "    Running setup.py install for mujoco-py ... \u001b[?25l\u001b[?25herror\n",
            "\u001b[31mERROR: Command errored out with exit status 1: /usr/bin/python3 -u -c 'import io, os, sys, setuptools, tokenize; sys.argv[0] = '\"'\"'/tmp/pip-install-3o6uw8mr/mujoco-py_64c5819398284799b434b58fdaf4d8b8/setup.py'\"'\"'; __file__='\"'\"'/tmp/pip-install-3o6uw8mr/mujoco-py_64c5819398284799b434b58fdaf4d8b8/setup.py'\"'\"';f = getattr(tokenize, '\"'\"'open'\"'\"', open)(__file__) if os.path.exists(__file__) else io.StringIO('\"'\"'from setuptools import setup; setup()'\"'\"');code = f.read().replace('\"'\"'\\r\\n'\"'\"', '\"'\"'\\n'\"'\"');f.close();exec(compile(code, __file__, '\"'\"'exec'\"'\"'))' install --record /tmp/pip-record-j1qgac_f/install-record.txt --single-version-externally-managed --compile --install-headers /usr/local/include/python3.7/mujoco-py Check the logs for full command output.\u001b[0m\n",
            "Requirement already satisfied: gym[Box_2D] in /usr/local/lib/python3.7/dist-packages (0.17.2)\n",
            "\u001b[33mWARNING: gym 0.17.2 does not provide the extra 'box_2d'\u001b[0m\n",
            "Requirement already satisfied: cloudpickle<1.4.0,>=1.2.0 in /usr/local/lib/python3.7/dist-packages (from gym[Box_2D]) (1.3.0)\n",
            "Requirement already satisfied: scipy in /usr/local/lib/python3.7/dist-packages (from gym[Box_2D]) (1.4.1)\n",
            "Requirement already satisfied: pyglet<=1.5.0,>=1.4.0 in /usr/local/lib/python3.7/dist-packages (from gym[Box_2D]) (1.5.0)\n",
            "Requirement already satisfied: numpy>=1.10.4 in /usr/local/lib/python3.7/dist-packages (from gym[Box_2D]) (1.21.5)\n",
            "Requirement already satisfied: future in /usr/local/lib/python3.7/dist-packages (from pyglet<=1.5.0,>=1.4.0->gym[Box_2D]) (0.16.0)\n"
          ]
        }
      ]
    },
    {
      "cell_type": "code",
      "source": [
        "!pip3 install box2d-py\n",
        "!pip3 install gym[Box_2D]"
      ],
      "metadata": {
        "id": "KqoOjlu6Up-h",
        "outputId": "0cb59e70-c055-4a4d-ff47-6454d926b42a",
        "colab": {
          "base_uri": "https://localhost:8080/"
        }
      },
      "execution_count": null,
      "outputs": [
        {
          "output_type": "stream",
          "name": "stdout",
          "text": [
            "Requirement already satisfied: box2d-py in /usr/local/lib/python3.7/dist-packages (2.3.8)\n",
            "Requirement already satisfied: gym[Box_2D] in /usr/local/lib/python3.7/dist-packages (0.17.2)\n",
            "\u001b[33mWARNING: gym 0.17.2 does not provide the extra 'box_2d'\u001b[0m\n",
            "Requirement already satisfied: pyglet<=1.5.0,>=1.4.0 in /usr/local/lib/python3.7/dist-packages (from gym[Box_2D]) (1.5.0)\n",
            "Requirement already satisfied: cloudpickle<1.4.0,>=1.2.0 in /usr/local/lib/python3.7/dist-packages (from gym[Box_2D]) (1.3.0)\n",
            "Requirement already satisfied: numpy>=1.10.4 in /usr/local/lib/python3.7/dist-packages (from gym[Box_2D]) (1.21.5)\n",
            "Requirement already satisfied: scipy in /usr/local/lib/python3.7/dist-packages (from gym[Box_2D]) (1.4.1)\n",
            "Requirement already satisfied: future in /usr/local/lib/python3.7/dist-packages (from pyglet<=1.5.0,>=1.4.0->gym[Box_2D]) (0.16.0)\n"
          ]
        }
      ]
    },
    {
      "cell_type": "code",
      "execution_count": null,
      "metadata": {
        "id": "Se0ru7lCK6vw"
      },
      "outputs": [],
      "source": [
        "env = gym.make('LunarLander-v2')"
      ]
    },
    {
      "cell_type": "markdown",
      "metadata": {
        "id": "MoTd5ZXfK6vw"
      },
      "source": [
        "See the simulator (using the code from lab 01)"
      ]
    },
    {
      "cell_type": "code",
      "source": [
        "!apt-get install x11-utils > /dev/null 2>&1 \n",
        "!pip install pyglet > /dev/null 2>&1 \n",
        "!apt-get install -y xvfb python-opengl > /dev/null 2>&1\n",
        "!apt-get install -y xvfb python-opengl x11-utils\n",
        "!pip install gym==0.17.2 pyvirtualdisplay==0.2.5"
      ],
      "metadata": {
        "id": "8FyweFdTb_Bq",
        "outputId": "1026d2ff-0359-4a3c-8a55-a6e9a12e83fb",
        "colab": {
          "base_uri": "https://localhost:8080/"
        }
      },
      "execution_count": null,
      "outputs": [
        {
          "output_type": "stream",
          "name": "stdout",
          "text": [
            "Reading package lists... Done\n",
            "Building dependency tree       \n",
            "Reading state information... Done\n",
            "x11-utils is already the newest version (7.7+3build1).\n",
            "python-opengl is already the newest version (3.1.0+dfsg-1).\n",
            "xvfb is already the newest version (2:1.19.6-1ubuntu4.10).\n",
            "The following packages were automatically installed and are no longer required:\n",
            "  cuda-command-line-tools-10-0 cuda-command-line-tools-10-1\n",
            "  cuda-command-line-tools-11-0 cuda-compiler-10-0 cuda-compiler-10-1\n",
            "  cuda-compiler-11-0 cuda-cuobjdump-10-0 cuda-cuobjdump-10-1\n",
            "  cuda-cuobjdump-11-0 cuda-cupti-10-0 cuda-cupti-10-1 cuda-cupti-11-0\n",
            "  cuda-cupti-dev-11-0 cuda-documentation-10-0 cuda-documentation-10-1\n",
            "  cuda-documentation-11-0 cuda-documentation-11-1 cuda-gdb-10-0 cuda-gdb-10-1\n",
            "  cuda-gdb-11-0 cuda-gpu-library-advisor-10-0 cuda-gpu-library-advisor-10-1\n",
            "  cuda-libraries-10-0 cuda-libraries-10-1 cuda-libraries-11-0\n",
            "  cuda-memcheck-10-0 cuda-memcheck-10-1 cuda-memcheck-11-0 cuda-nsight-10-0\n",
            "  cuda-nsight-10-1 cuda-nsight-11-0 cuda-nsight-11-1 cuda-nsight-compute-10-0\n",
            "  cuda-nsight-compute-10-1 cuda-nsight-compute-11-0 cuda-nsight-compute-11-1\n",
            "  cuda-nsight-systems-10-1 cuda-nsight-systems-11-0 cuda-nsight-systems-11-1\n",
            "  cuda-nvcc-10-0 cuda-nvcc-10-1 cuda-nvcc-11-0 cuda-nvdisasm-10-0\n",
            "  cuda-nvdisasm-10-1 cuda-nvdisasm-11-0 cuda-nvml-dev-10-0 cuda-nvml-dev-10-1\n",
            "  cuda-nvml-dev-11-0 cuda-nvprof-10-0 cuda-nvprof-10-1 cuda-nvprof-11-0\n",
            "  cuda-nvprune-10-0 cuda-nvprune-10-1 cuda-nvprune-11-0 cuda-nvtx-10-0\n",
            "  cuda-nvtx-10-1 cuda-nvtx-11-0 cuda-nvvp-10-0 cuda-nvvp-10-1 cuda-nvvp-11-0\n",
            "  cuda-nvvp-11-1 cuda-samples-10-0 cuda-samples-10-1 cuda-samples-11-0\n",
            "  cuda-samples-11-1 cuda-sanitizer-11-0 cuda-sanitizer-api-10-1\n",
            "  cuda-toolkit-10-0 cuda-toolkit-10-1 cuda-toolkit-11-0 cuda-toolkit-11-1\n",
            "  cuda-tools-10-0 cuda-tools-10-1 cuda-tools-11-0 cuda-tools-11-1\n",
            "  cuda-visual-tools-10-0 cuda-visual-tools-10-1 cuda-visual-tools-11-0\n",
            "  cuda-visual-tools-11-1 default-jre dkms freeglut3-dev keyboard-configuration\n",
            "  libargon2-0 libcap2 libcryptsetup12 libdevmapper1.02.1 libidn11 libip4tc0\n",
            "  libjansson4 libnvidia-cfg1-510 libnvidia-common-460 libnvidia-common-510\n",
            "  libnvidia-extra-510 libnvidia-fbc1-510 libnvidia-gl-510 libpam-systemd\n",
            "  libpolkit-agent-1-0 libpolkit-backend-1-0 libpolkit-gobject-1-0 libxi-dev\n",
            "  libxmu-dev libxmu-headers libxnvctrl0 nsight-compute-2020.2.1\n",
            "  nsight-compute-2022.1.0 nsight-systems-2020.3.2 nsight-systems-2020.3.4\n",
            "  nsight-systems-2021.5.2 nvidia-dkms-510 nvidia-kernel-common-510\n",
            "  nvidia-kernel-source-510 nvidia-modprobe nvidia-settings openjdk-11-jre\n",
            "  policykit-1 policykit-1-gnome python3-xkit screen-resolution-extra systemd\n",
            "  systemd-sysv udev xserver-xorg-core-hwe-18.04 xserver-xorg-video-nvidia-510\n",
            "Use 'apt autoremove' to remove them.\n",
            "0 upgraded, 0 newly installed, 0 to remove and 39 not upgraded.\n",
            "Requirement already satisfied: gym==0.17.2 in /usr/local/lib/python3.7/dist-packages (0.17.2)\n",
            "Requirement already satisfied: pyvirtualdisplay==0.2.5 in /usr/local/lib/python3.7/dist-packages (0.2.5)\n",
            "Requirement already satisfied: numpy>=1.10.4 in /usr/local/lib/python3.7/dist-packages (from gym==0.17.2) (1.21.5)\n",
            "Requirement already satisfied: scipy in /usr/local/lib/python3.7/dist-packages (from gym==0.17.2) (1.4.1)\n",
            "Requirement already satisfied: pyglet<=1.5.0,>=1.4.0 in /usr/local/lib/python3.7/dist-packages (from gym==0.17.2) (1.5.0)\n",
            "Requirement already satisfied: cloudpickle<1.4.0,>=1.2.0 in /usr/local/lib/python3.7/dist-packages (from gym==0.17.2) (1.3.0)\n",
            "Requirement already satisfied: EasyProcess in /usr/local/lib/python3.7/dist-packages (from pyvirtualdisplay==0.2.5) (1.1)\n",
            "Requirement already satisfied: future in /usr/local/lib/python3.7/dist-packages (from pyglet<=1.5.0,>=1.4.0->gym==0.17.2) (0.16.0)\n"
          ]
        }
      ]
    },
    {
      "cell_type": "code",
      "execution_count": null,
      "metadata": {
        "id": "aPMhxGsPK6vw",
        "outputId": "8945f18d-23c7-409c-d94c-bc05f8ef4aae",
        "colab": {
          "base_uri": "https://localhost:8080/"
        }
      },
      "outputs": [
        {
          "output_type": "execute_result",
          "data": {
            "text/plain": [
              "<Display cmd_param=['Xvfb', '-br', '-nolisten', 'tcp', '-screen', '0', '400x300x24', ':1005'] cmd=['Xvfb', '-br', '-nolisten', 'tcp', '-screen', '0', '400x300x24', ':1005'] oserror=None return_code=None stdout=\"None\" stderr=\"None\" timeout_happened=False>"
            ]
          },
          "metadata": {},
          "execution_count": 50
        }
      ],
      "source": [
        "import numpy as np\n",
        "import matplotlib.pyplot as plt\n",
        "from IPython import display as ipythondisplay\n",
        "\n",
        "from pyvirtualdisplay import Display\n",
        "display = Display(visible=0, size=(400, 300))\n",
        "display.start()"
      ]
    },
    {
      "cell_type": "code",
      "execution_count": null,
      "metadata": {
        "id": "_rJMlF64K6vx",
        "outputId": "f3c5b51a-b00f-4eb0-939e-8abcc6f20c8b",
        "colab": {
          "base_uri": "https://localhost:8080/",
          "height": 269
        }
      },
      "outputs": [
        {
          "output_type": "display_data",
          "data": {
            "image/png": "[encoded data removed]",
            "text/plain": [
              "<Figure size 432x288 with 1 Axes>"
            ]
          },
          "metadata": {
            "needs_background": "light"
          }
        }
      ],
      "source": [
        "env.reset()\n",
        "prev_screen = env.render(mode='rgb_array')\n",
        "plt.imshow(prev_screen)\n",
        "\n",
        "for i in range(50):\n",
        "    action = env.action_space.sample()\n",
        "    obs, reward, done, info = env.step(action)\n",
        "    screen = env.render(mode='rgb_array')\n",
        "\n",
        "    plt.imshow(screen)\n",
        "    ipythondisplay.clear_output(wait=True)\n",
        "    ipythondisplay.display(plt.gcf())\n",
        "\n",
        "    if done:\n",
        "        break\n",
        "\n",
        "ipythondisplay.clear_output(wait=True)\n",
        "env.close()"
      ]
    },
    {
      "cell_type": "markdown",
      "metadata": {
        "id": "PskWq6uZK6vx"
      },
      "source": [
        "Checking state in the environment."
      ]
    },
    {
      "cell_type": "code",
      "execution_count": null,
      "metadata": {
        "id": "fc3nP0S4K6vx",
        "outputId": "6ba81f06-6b76-4046-c2d1-053b5915248a",
        "colab": {
          "base_uri": "https://localhost:8080/"
        }
      },
      "outputs": [
        {
          "output_type": "stream",
          "name": "stdout",
          "text": [
            "[ 0.00148611  1.3987625   0.15051985 -0.5403452  -0.00171534 -0.03409503\n",
            "  0.          0.        ]\n"
          ]
        }
      ],
      "source": [
        "state = env.reset()\n",
        "print(state)"
      ]
    },
    {
      "cell_type": "markdown",
      "metadata": {
        "id": "N0s1cv-5K6vx"
      },
      "source": [
        "Because the state is floating array, It is not good for creating the Q table. We try to change the state to integer array and convert the state array to tuple"
      ]
    },
    {
      "cell_type": "code",
      "execution_count": null,
      "metadata": {
        "id": "g2RQjxfYK6vx",
        "outputId": "d4a80160-083c-4bef-d688-96a143ff6d6f",
        "colab": {
          "base_uri": "https://localhost:8080/"
        }
      },
      "outputs": [
        {
          "output_type": "stream",
          "name": "stdout",
          "text": [
            "(0, 13, 1, -5, 0, 0, 0, 0)\n"
          ]
        }
      ],
      "source": [
        "state = tuple((state * 10).astype(int))\n",
        "print(state)"
      ]
    },
    {
      "cell_type": "markdown",
      "metadata": {
        "id": "6LNxESZBK6vy"
      },
      "source": [
        "Modify run_episode function for supporting the state."
      ]
    },
    {
      "cell_type": "code",
      "execution_count": null,
      "metadata": {
        "id": "DiFanxWwK6vy"
      },
      "outputs": [],
      "source": [
        "import numpy as np\n",
        "\n",
        "def run_episode2(env, Q, epsilon, n_action):\n",
        "    \"\"\"\n",
        "    Run a episode and performs epsilon-greedy policy\n",
        "    @param env: OpenAI Gym environment\n",
        "    @param Q: Q-function\n",
        "    @param epsilon: the trade-off between exploration and exploitation\n",
        "    @param n_action: action space\n",
        "    @return: resulting states, actions and rewards for the entire episode\n",
        "    \"\"\"\n",
        "    state = env.reset()\n",
        "    state = tuple((state * 10).astype(int))\n",
        "    rewards = []\n",
        "    actions = []\n",
        "    states = []\n",
        "    is_done = False\n",
        "    while not is_done:\n",
        "        probs = torch.ones(n_action) * epsilon / n_action\n",
        "        #print(Q)\n",
        "        #print(state)\n",
        "        best_action = torch.argmax(Q[state]).item()\n",
        "        probs[best_action] += 1.0 - epsilon\n",
        "        action = torch.multinomial(probs, 1).item()\n",
        "        actions.append(action)\n",
        "        states.append(state)\n",
        "        state, reward, is_done, info = env.step(action)\n",
        "        state = tuple((state * 10).astype(int))\n",
        "        rewards.append(reward)\n",
        "        if is_done:\n",
        "            break\n",
        "    return states, actions, rewards"
      ]
    },
    {
      "cell_type": "code",
      "execution_count": null,
      "metadata": {
        "id": "0Gn4DPcAK6vy"
      },
      "outputs": [],
      "source": [
        "from collections import defaultdict\n",
        "\n",
        "def mc_control_epsilon_greedy2(env, gamma, n_episode, epsilon):\n",
        "    \"\"\"\n",
        "    Obtain the optimal policy with on-policy MC control with epsilon_greedy\n",
        "    @param env: OpenAI Gym environment\n",
        "    @param gamma: discount factor\n",
        "    @param n_episode: number of episodes\n",
        "    @param epsilon: the trade-off between exploration and exploitation\n",
        "    @return: the optimal Q-function, and the optimal policy\n",
        "    \"\"\"\n",
        "    n_action = env.action_space.n\n",
        "    G_sum = defaultdict(float)\n",
        "    N = defaultdict(int)\n",
        "    Q = defaultdict(lambda: torch.empty(n_action))\n",
        "    for episode in range(n_episode):\n",
        "        if (episode + 1) % 5000 == 0:\n",
        "            print(\"Training episode {}\".format(episode+1))\n",
        "        states_t, actions_t, rewards_t = run_episode2(env, Q, epsilon, n_action)\n",
        "        return_t = 0\n",
        "        G = {}\n",
        "        for state_t, action_t, reward_t in zip(states_t[::-1], actions_t[::-1], rewards_t[::-1]):\n",
        "            return_t = gamma * return_t + reward_t\n",
        "            G[(state_t, action_t)] = return_t\n",
        "        for state_action, return_t in G.items():\n",
        "            state, action = state_action\n",
        "\n",
        "            G_sum[state_action] += return_t\n",
        "            N[state_action] += 1\n",
        "            Q[state][action] = G_sum[state_action] / N[state_action]\n",
        "    policy = {}\n",
        "    for state, actions in Q.items():\n",
        "        policy[state] = torch.argmax(actions).item()\n",
        "    return Q, policy\n"
      ]
    },
    {
      "cell_type": "code",
      "execution_count": null,
      "metadata": {
        "scrolled": true,
        "id": "k6ha56MNK6vy",
        "outputId": "6e4a5dd0-8522-4445-d911-d8b3ad4b09d6",
        "colab": {
          "base_uri": "https://localhost:8080/"
        }
      },
      "outputs": [
        {
          "output_type": "stream",
          "name": "stdout",
          "text": [
            "Training episode 5000\n",
            "Training episode 10000\n",
            "Training episode 15000\n",
            "Training episode 20000\n",
            "Training episode 25000\n",
            "Training episode 30000\n",
            "Training episode 35000\n",
            "Training episode 40000\n",
            "Training episode 45000\n",
            "Training episode 50000\n",
            "Training episode 55000\n",
            "Training episode 60000\n",
            "Training episode 65000\n",
            "Training episode 70000\n",
            "Training episode 75000\n",
            "Training episode 80000\n",
            "Training episode 85000\n",
            "Training episode 90000\n",
            "Training episode 95000\n",
            "Training episode 100000\n"
          ]
        }
      ],
      "source": [
        "gamma = 0.5\n",
        "\n",
        "n_episode = 100000\n",
        "epsilon = 0.1\n",
        "\n",
        "optimal_Q, optimal_policy = mc_control_epsilon_greedy2(env, gamma, n_episode, epsilon)"
      ]
    },
    {
      "cell_type": "code",
      "execution_count": null,
      "metadata": {
        "id": "woEjwsSnK6vz",
        "outputId": "b39ea1b7-faa0-4d69-e60e-a3655a0e911c",
        "colab": {
          "base_uri": "https://localhost:8080/"
        }
      },
      "outputs": [
        {
          "output_type": "execute_result",
          "data": {
            "text/plain": [
              "1950032"
            ]
          },
          "metadata": {},
          "execution_count": 57
        }
      ],
      "source": [
        "len(optimal_policy)"
      ]
    },
    {
      "cell_type": "code",
      "execution_count": null,
      "metadata": {
        "id": "4cD9x_s3K6vz"
      },
      "outputs": [],
      "source": [
        "def simulate_episode_render(env, policy):\n",
        "    state = env.reset()\n",
        "    state = tuple((state * 10).astype(int))\n",
        "    is_done = False\n",
        "    while not is_done:\n",
        "        try:\n",
        "            action = policy[state]\n",
        "            print(\"get action\")\n",
        "        except:\n",
        "            action = 0\n",
        "            print(\"no action\")\n",
        "        print(action)\n",
        "        state, reward, is_done, info = env.step(action)\n",
        "        state = tuple((state * 10).astype(int))\n",
        "        screen = env.render(mode='rgb_array')\n",
        "        \n",
        "        plt.imshow(screen)\n",
        "        ipythondisplay.clear_output(wait=True)\n",
        "        ipythondisplay.display(plt.gcf())\n",
        "        if is_done:\n",
        "            return reward"
      ]
    },
    {
      "cell_type": "code",
      "execution_count": null,
      "metadata": {
        "id": "S-LaeeAGK6vz",
        "outputId": "7afe083b-e268-4cde-816d-3040dc4f1930",
        "colab": {
          "base_uri": "https://localhost:8080/",
          "height": 269
        }
      },
      "outputs": [
        {
          "data": {
            "image/png": "[encoded data removed]",
            "text/plain": [
              "<Figure size 432x288 with 1 Axes>"
            ]
          },
          "metadata": {},
          "output_type": "display_data"
        }
      ],
      "source": [
        "from gym.wrappers import Monitor\n",
        "\n",
        "vdo_path = 'video_rl/'\n",
        "env = Monitor(gym.make('LunarLander-v2'), vdo_path, force=True)\n",
        "env.reset()\n",
        "prev_screen = env.render(mode='rgb_array')\n",
        "plt.imshow(prev_screen)\n",
        "\n",
        "simulate_episode_render(env, optimal_policy)\n",
        "\n",
        "ipythondisplay.clear_output(wait=True)\n",
        "env.close()"
      ]
    },
    {
      "cell_type": "markdown",
      "metadata": {
        "id": "Cim3DfelK6vz"
      },
      "source": [
        "## Lab exercise\n",
        "\n",
        "1. Try to do MC-Control using epsilon greedy policy in:\n",
        "  - Black Jack environment\n",
        "  - Cart Pole environment\n",
        "2. For BlackJack, find the winning percentage with optimal policy.\n",
        "3. For Cart Pole, run the environment with optimal policy and record it as VDO.\n",
        "4. Explain why MC-control is not good for LunarLander and CartPole."
      ]
    },
    {
      "cell_type": "code",
      "execution_count": null,
      "metadata": {
        "id": "Tw9ZlVPbK6vz"
      },
      "outputs": [],
      "source": [
        ""
      ]
    }
  ],
  "metadata": {
    "kernelspec": {
      "display_name": "Python 3",
      "language": "python",
      "name": "python3"
    },
    "language_info": {
      "codemirror_mode": {
        "name": "ipython",
        "version": 3
      },
      "file_extension": ".py",
      "mimetype": "text/x-python",
      "name": "python",
      "nbconvert_exporter": "python",
      "pygments_lexer": "ipython3",
      "version": "3.8.3"
    },
    "colab": {
      "name": "04-Monte_Carlo_Methods.ipynb",
      "provenance": [],
      "include_colab_link": true
    }
  },
  "nbformat": 4,
  "nbformat_minor": 0
}